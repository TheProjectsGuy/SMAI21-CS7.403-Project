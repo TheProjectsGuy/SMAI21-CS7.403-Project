{
 "cells": [
  {
   "cell_type": "code",
   "execution_count": 1,
   "id": "ba506f55",
   "metadata": {},
   "outputs": [],
   "source": [
    "#dev-nayan\n",
    "#import statements\n",
    "import tensorflow as tf\n",
    "import matplotlib.pyplot as plt\n",
    "import cv2\n",
    "import numpy as np\n",
    "import time\n",
    "import os\n"
   ]
  },
  {
   "cell_type": "code",
   "execution_count": null,
   "id": "9ce668d7",
   "metadata": {},
   "outputs": [],
   "source": [
    "# the contents of BSDS500_loader_and_patch_generator notebook need to be imported here before executing it "
   ]
  },
  {
   "cell_type": "code",
   "execution_count": 7,
   "id": "e2738b63",
   "metadata": {},
   "outputs": [
    {
     "data": {
      "text/plain": [
       "'F:\\\\MS IIITH\\\\course structure and syllabus\\\\Semester I\\\\SMAI\\\\project\\\\implementation'"
      ]
     },
     "execution_count": 7,
     "metadata": {},
     "output_type": "execute_result"
    }
   ],
   "source": [
    "pwd"
   ]
  },
  {
   "cell_type": "code",
   "execution_count": 4,
   "id": "b02cf66a",
   "metadata": {},
   "outputs": [],
   "source": [
    "#changing the directory to the folder where we want to generate the image dataset\n",
    "os.chdir(r\"F:\\MS IIITH\\course structure and syllabus\\Semester I\\SMAI\\project\\implementation\")"
   ]
  },
  {
   "cell_type": "code",
   "execution_count": 3,
   "id": "37ca80d7",
   "metadata": {},
   "outputs": [],
   "source": [
    "#The path for original images in BSDS6500 dataset( train and test segment)\n",
    "train_path=r\"F:\\MS IIITH\\course structure and syllabus\\Semester I\\SMAI\\project\\dataset\\BSDS500-master\\BSDS500-master\\BSDS500\\data\\images\\train\"\n",
    "test_path=r\"F:\\MS IIITH\\course structure and syllabus\\Semester I\\SMAI\\project\\dataset\\BSDS500-master\\BSDS500-master\\BSDS500\\data\\images\\test\""
   ]
  },
  {
   "cell_type": "code",
   "execution_count": 9,
   "id": "620d6bfd",
   "metadata": {},
   "outputs": [],
   "source": [
    "def image_recreation_using_patches_post_denoising(generated_patch,image_shape):\n",
    "    #This function reconstructs the image using image patches\n",
    "    image=np.zeros(image_shape) # Create a image with all zeros with desired image shape\n",
    "    print(image.shape)\n",
    "    patch_size=generated_patch.shape[1]\n",
    "    print(patch_size) # stores the size of the patch \n",
    "    p=0\n",
    "    for i in range(0,image.shape[0]-patch_size+1,patch_size):\n",
    "        for j in range(0,image.shape[1]-patch_size+1,patch_size):\n",
    "            #print(\"printing i+patch_Size\",i,i+patch_size)\n",
    "            #print(\"printing j+patch_size\",j,j+patch_size)\n",
    "            image[i:i+patch_size,j:j+patch_size]=generated_patch[p] # Assigning values of pixels from patches to image\n",
    "            p+=1\n",
    "    return np.array(image)\n"
   ]
  }
 ],
 "metadata": {
  "kernelspec": {
   "display_name": "Python 3",
   "language": "python",
   "name": "python3"
  },
  "language_info": {
   "codemirror_mode": {
    "name": "ipython",
    "version": 3
   },
   "file_extension": ".py",
   "mimetype": "text/x-python",
   "name": "python",
   "nbconvert_exporter": "python",
   "pygments_lexer": "ipython3",
   "version": "3.8.8"
  }
 },
 "nbformat": 4,
 "nbformat_minor": 5
}
