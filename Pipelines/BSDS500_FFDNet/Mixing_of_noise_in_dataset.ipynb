{
 "cells": [
  {
   "cell_type": "markdown",
   "metadata": {},
   "source": [
    "This code file mixes noise with the generated patches for training and testing images"
   ]
  },
  {
   "cell_type": "code",
   "execution_count": 53,
   "metadata": {
    "id": "_JUWW5KSOq0h"
   },
   "outputs": [],
   "source": [
    "#dev-nayan\n",
    "#Importing the packages\n",
    "import os\n",
    "import numpy as np\n",
    "import matplotlib.pyplot as plt\n",
    "import cv2\n",
    "import tensorflow as tf\n",
    "from tensorflow.keras.layers import Input,MaxPool2D,Conv2D,UpSampling2D,Activation,BatchNormalization,Subtract\n",
    "from tensorflow.keras.utils import plot_model\n",
    "from tensorflow.keras.models import Model\n",
    "import datetime\n",
    "import pandas as pd"
   ]
  },
  {
   "cell_type": "code",
   "execution_count": 5,
   "metadata": {
    "id": "bsemAp_5OsYZ"
   },
   "outputs": [],
   "source": [
    "#Getting the filepaths for train and test data\n",
    "train_path=r\"F:\\MS IIITH\\course structure and syllabus\\Semester I\\SMAI\\project\\implementation\\patches\"\n",
    "test_path=r\"F:\\MS IIITH\\course structure and syllabus\\Semester I\\SMAI\\project\\implementation\\patches_test_set\"\n",
    "train_files=[os.path.join(test_path,filename) for filename in os.listdir(train_path)]\n",
    "test_files=[os.path.join(test_path,filename)  for filename in os.listdir(test_path)]"
   ]
  },
  {
   "cell_type": "code",
   "execution_count": 6,
   "metadata": {
    "id": "qTQdGsZmOvlB"
   },
   "outputs": [],
   "source": [
    "# Addition of noise in the given dataset\n",
    "def noise_addition_in_data(filename):\n",
    "    image_matrix = tf.io.read_file(filename)\n",
    "    image_decoded = tf.image.decode_jpeg(image_matrix, channels=3)\n",
    "    image = tf.cast(image_decoded, tf.float32)/255.\n",
    "\n",
    "    noise_selection=np.random.choice(noise_threshold)\n",
    "    noisy_image=image+tf.random.normal(shape=(40,40,3),mean=0,stddev=noise_selection/255)\n",
    "    noisy_image=tf.clip_by_value(noisy_image, clip_value_min=0., clip_value_max=1.)\n",
    "\n",
    "    return noisy_image,image"
   ]
  },
  {
   "cell_type": "code",
   "execution_count": 7,
   "metadata": {
    "id": "C7JDa1psOxqB"
   },
   "outputs": [],
   "source": [
    "# generation of the training and testing dataset with added noise\n",
    "batch_size=64\n",
    "noise_threshold=[15,25,50] \n",
    "\n",
    "#Creating the Dataset for the noisy \n",
    "final_training_dataset = tf.data.Dataset.from_tensor_slices(np.array(train_files)) \n",
    "final_training_dataset = final_training_dataset.map(noise_addition_in_data)\n",
    "final_training_dataset = final_training_dataset.batch(batch_size)\n",
    "\n",
    "final_testing_dataset = tf.data.Dataset.from_tensor_slices(np.array(test_files))\n",
    "final_testing_dataset = final_testing_dataset.map(noise_addition_in_data)\n",
    "final_testing_dataset = final_testing_dataset.batch(batch_size)"
   ]
  },
  {
   "cell_type": "code",
   "execution_count": 8,
   "metadata": {
    "colab": {
     "base_uri": "https://localhost:8080/"
    },
    "id": "nNncCyqFOzAr",
    "outputId": "e87d172f-3ad7-4340-d40f-9eb50da80d12"
   },
   "outputs": [
    {
     "name": "stdout",
     "output_type": "stream",
     "text": [
      "Shape of single batch of x :  (64, 40, 40, 3)\n",
      "Shape of single batch of y :  (64, 40, 40, 3)\n"
     ]
    }
   ],
   "source": [
    "iterator = iter(final_training_dataset)\n",
    "a, b = iterator.get_next()\n",
    "\n",
    "print('Shape of single batch of x : ',a.shape)\n",
    "print('Shape of single batch of y : ',b.shape)"
   ]
  }
 ],
 "metadata": {
  "accelerator": "GPU",
  "colab": {
   "collapsed_sections": [],
   "name": "CS2_Modeling.ipynb2",
   "provenance": []
  },
  "kernelspec": {
   "display_name": "Python 3",
   "language": "python",
   "name": "python3"
  },
  "language_info": {
   "codemirror_mode": {
    "name": "ipython",
    "version": 3
   },
   "file_extension": ".py",
   "mimetype": "text/x-python",
   "name": "python",
   "nbconvert_exporter": "python",
   "pygments_lexer": "ipython3",
   "version": "3.8.8"
  }
 },
 "nbformat": 4,
 "nbformat_minor": 1
}
