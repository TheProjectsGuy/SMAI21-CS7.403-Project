{
 "cells": [
  {
   "cell_type": "code",
   "execution_count": 5,
   "id": "ruled-raleigh",
   "metadata": {},
   "outputs": [],
   "source": [
    "#import statement\n",
    "import tensorflow as tf\n",
    "import numpy as np\n",
    "import random\n",
    "import os"
   ]
  },
  {
   "cell_type": "code",
   "execution_count": 6,
   "id": "swedish-declaration",
   "metadata": {},
   "outputs": [],
   "source": [
    "os.chdir(r\"G:\\SET12\")\n",
    "path=r\"G:\\SET12\""
   ]
  },
  {
   "cell_type": "code",
   "execution_count": 7,
   "id": "variable-chaos",
   "metadata": {},
   "outputs": [],
   "source": [
    "content_folder=os.listdir(path)"
   ]
  },
  {
   "cell_type": "code",
   "execution_count": 8,
   "id": "smooth-subscriber",
   "metadata": {},
   "outputs": [],
   "source": [
    "test_split=0.2 "
   ]
  },
  {
   "cell_type": "code",
   "execution_count": 9,
   "id": "graduate-complex",
   "metadata": {},
   "outputs": [],
   "source": [
    "# This function returns the images from Urban 100 image_SRF_4 folder\n",
    "def train_test_split_for_image_SET12():\n",
    "    #defining the size of train test split\n",
    "    size_of_test_split=np.floor(len(content_folder)*test_split)\n",
    "    size_of_train_split=len(content_folder)-size_of_test_split\n",
    "    i=0\n",
    "    test_indexes=[]\n",
    "    #splitting the file names as per the random tratin test split \n",
    "    while i<int(size_of_test_split):\n",
    "\n",
    "        generated_num=random.randint(0,size_of_test_split)\n",
    "        if int(generated_num) in test_indexes:\n",
    "            continue\n",
    "        else:\n",
    "            test_indexes.append(int(generated_num))\n",
    "            i=i+1\n",
    "    X_train_list=[]\n",
    "    X_test_list=[]\n",
    "    l=np.arange(len(content_folder))\n",
    "    for i in range(len(l)):\n",
    "        if l[i] in test_indexes:\n",
    "            X_test_list.append(content_folder[i])\n",
    "        else:\n",
    "            X_train_list.append(content_folder[i])\n",
    "            \n",
    "    return X_train_list,X_test_list"
   ]
  },
  {
   "cell_type": "code",
   "execution_count": 12,
   "id": "behavioral-shakespeare",
   "metadata": {},
   "outputs": [
    {
     "ename": "AttributeError",
     "evalue": "'tuple' object has no attribute 'head'",
     "output_type": "error",
     "traceback": [
      "\u001b[1;31m---------------------------------------------------------------------------\u001b[0m",
      "\u001b[1;31mAttributeError\u001b[0m                            Traceback (most recent call last)",
      "\u001b[1;32m<ipython-input-12-bd843ef1dcaf>\u001b[0m in \u001b[0;36m<module>\u001b[1;34m\u001b[0m\n\u001b[0;32m      1\u001b[0m \u001b[0mX_train_list\u001b[0m\u001b[1;33m=\u001b[0m\u001b[0mtrain_test_split_for_image_SET12\u001b[0m\u001b[1;33m(\u001b[0m\u001b[1;33m)\u001b[0m\u001b[1;33m\u001b[0m\u001b[0m\n\u001b[1;32m----> 2\u001b[1;33m \u001b[0mX_train_list\u001b[0m\u001b[1;33m.\u001b[0m\u001b[0mhead\u001b[0m\u001b[1;33m(\u001b[0m\u001b[1;33m)\u001b[0m\u001b[1;33m\u001b[0m\u001b[0m\n\u001b[0m",
      "\u001b[1;31mAttributeError\u001b[0m: 'tuple' object has no attribute 'head'"
     ]
    }
   ],
   "source": [
    "X_train_list=train_test_split_for_image_SET12()\n",
    "X_train_list.head()"
   ]
  },
  {
   "cell_type": "code",
   "execution_count": null,
   "id": "small-yahoo",
   "metadata": {},
   "outputs": [],
   "source": []
  }
 ],
 "metadata": {
  "kernelspec": {
   "display_name": "Python 3",
   "language": "python",
   "name": "python3"
  },
  "language_info": {
   "codemirror_mode": {
    "name": "ipython",
    "version": 3
   },
   "file_extension": ".py",
   "mimetype": "text/x-python",
   "name": "python",
   "nbconvert_exporter": "python",
   "pygments_lexer": "ipython3",
   "version": "3.6.2"
  }
 },
 "nbformat": 4,
 "nbformat_minor": 5
}
