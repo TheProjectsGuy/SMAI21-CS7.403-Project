{
 "cells": [
  {
   "cell_type": "code",
   "execution_count": 5,
   "id": "comfortable-bidding",
   "metadata": {},
   "outputs": [],
   "source": [
    "#import statement\n",
    "import tensorflow as tf\n",
    "import numpy as np\n",
    "import random\n",
    "import os"
   ]
  },
  {
   "cell_type": "code",
   "execution_count": 6,
   "id": "acute-suite",
   "metadata": {},
   "outputs": [],
   "source": [
    "os.chdir(r\"G:\\SET12\")\n",
    "path=r\"G:\\SET12\""
   ]
  },
  {
   "cell_type": "code",
   "execution_count": 7,
   "id": "discrete-drilling",
   "metadata": {},
   "outputs": [],
   "source": [
    "content_folder=os.listdir(path)"
   ]
  },
  {
   "cell_type": "code",
   "execution_count": 8,
   "id": "joined-blowing",
   "metadata": {},
   "outputs": [],
   "source": [
    "test_split=0.2 "
   ]
  },
  {
   "cell_type": "code",
   "execution_count": 9,
   "id": "intelligent-bulletin",
   "metadata": {},
   "outputs": [],
   "source": [
    "# This function returns the images from SET12 folder\n",
    "def train_test_split_for_image_SET12():\n",
    "    #defining the size of train test split\n",
    "    size_of_test_split=np.floor(len(content_folder)*test_split)\n",
    "    size_of_train_split=len(content_folder)-size_of_test_split\n",
    "    i=0\n",
    "    test_indexes=[]\n",
    "    #splitting the file names as per the random train test split \n",
    "    while i<int(size_of_test_split):\n",
    "\n",
    "        generated_num=random.randint(0,size_of_test_split)\n",
    "        if int(generated_num) in test_indexes:\n",
    "            continue\n",
    "        else:\n",
    "            test_indexes.append(int(generated_num))\n",
    "            i=i+1\n",
    "    X_train_list=[]\n",
    "    X_test_list=[]\n",
    "    l=np.arange(len(content_folder))\n",
    "    for i in range(len(l)):\n",
    "        if l[i] in test_indexes:\n",
    "            X_test_list.append(content_folder[i])\n",
    "        else:\n",
    "            X_train_list.append(content_folder[i])\n",
    "            \n",
    "    return X_train_list,X_test_list"
   ]
  },
  {
   "cell_type": "code",
   "execution_count": 13,
   "id": "explicit-register",
   "metadata": {},
   "outputs": [
    {
     "data": {
      "text/plain": [
       "['03.png',\n",
       " '04.png',\n",
       " '05.png',\n",
       " '06.png',\n",
       " '07.png',\n",
       " '08.png',\n",
       " '09.png',\n",
       " '10.png',\n",
       " '11.png',\n",
       " '12.png']"
      ]
     },
     "execution_count": 13,
     "metadata": {},
     "output_type": "execute_result"
    }
   ],
   "source": [
    "X_train_list=train_test_split_for_image_SET12()\n",
    "X_train_list[0]"
   ]
  },
  {
   "cell_type": "code",
   "execution_count": null,
   "id": "disciplinary-exchange",
   "metadata": {},
   "outputs": [],
   "source": []
  }
 ],
 "metadata": {
  "kernelspec": {
   "display_name": "Python 3",
   "language": "python",
   "name": "python3"
  },
  "language_info": {
   "codemirror_mode": {
    "name": "ipython",
    "version": 3
   },
   "file_extension": ".py",
   "mimetype": "text/x-python",
   "name": "python",
   "nbconvert_exporter": "python",
   "pygments_lexer": "ipython3",
   "version": "3.6.2"
  }
 },
 "nbformat": 4,
 "nbformat_minor": 5
}
