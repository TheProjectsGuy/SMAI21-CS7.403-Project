{
 "cells": [
  {
   "cell_type": "code",
   "execution_count": 2,
   "id": "d2cfe842",
   "metadata": {},
   "outputs": [],
   "source": [
    "import tensorflow as tf\n",
    "import numpy as np\n",
    "import random\n",
    "import os\n"
   ]
  },
  {
   "cell_type": "code",
   "execution_count": 12,
   "id": "f47a37d2",
   "metadata": {},
   "outputs": [],
   "source": [
    "#reading the image_SRF_2 from file\n",
    "import tensorflow_datasets as tfds"
   ]
  },
  {
   "cell_type": "code",
   "execution_count": 29,
   "id": "9bbbb3eb",
   "metadata": {},
   "outputs": [],
   "source": [
    "# changing the directory to get the desired files\n",
    "os.chdir(r\"F:\\MS IIITH\\course structure and syllabus\\Semester I\\SMAI\\project\\dataset\\Urban100_SR\")\n",
    "path=r\"F:\\MS IIITH\\course structure and syllabus\\Semester I\\SMAI\\project\\dataset\\Urban100_SR\"\n",
    "#These folders contain the images\n",
    "folder1='image_SRF_2' \n",
    "folder2='image_SRF_4'  "
   ]
  },
  {
   "cell_type": "code",
   "execution_count": 31,
   "id": "41d6cce9",
   "metadata": {},
   "outputs": [],
   "source": [
    "content_folder_SRF2=os.listdir(os.path.join(path,folder1)) # for folder SRF2\n"
   ]
  },
  {
   "cell_type": "code",
   "execution_count": 20,
   "id": "27ec483c",
   "metadata": {},
   "outputs": [],
   "source": [
    "content_folder_SRF4=os.listdir(os.path.join(path,folder2))# for folder SRF4"
   ]
  },
  {
   "cell_type": "code",
   "execution_count": 39,
   "id": "aaf29ec8",
   "metadata": {},
   "outputs": [],
   "source": [
    "#Defining the test split ratio\n",
    "test_split=0.2 "
   ]
  },
  {
   "cell_type": "code",
   "execution_count": 5,
   "id": "12f8063c",
   "metadata": {},
   "outputs": [],
   "source": [
    "# This function returns the images from Urban 100 image_SRF_4 folder\n",
    "def train_test_split_for_image_SRF_2():\n",
    "    #defining the size of train test split\n",
    "    size_of_test_split=np.floor(len(content_folder_SRF2)*test_split)\n",
    "    size_of_train_split=len(content_folder_SRF2)-size_of_test_split\n",
    "    i=0\n",
    "    test_indexes=[]\n",
    "    #splitting the file names as per the random tratin test split \n",
    "    while i<int(size_of_test_split):\n",
    "\n",
    "        generated_num=random.randint(0,size_of_test_split)\n",
    "        if int(generated_num) in test_indexes:\n",
    "            continue\n",
    "        else:\n",
    "            test_indexes.append(int(generated_num))\n",
    "            i=i+1\n",
    "    X_train_list=[]\n",
    "    X_test_list=[]\n",
    "    l=np.arange(len(content_folder_SRF2))\n",
    "    for i in range(len(l)):\n",
    "        if l[i] in test_indexes:\n",
    "            X_test_list.append(content_folder_SRF2[i])\n",
    "        else:\n",
    "            X_train_list.append(content_folder_SRF2[i])\n",
    "            \n",
    "    return X_train_list,X_test_list"
   ]
  },
  {
   "cell_type": "code",
   "execution_count": 3,
   "id": "7f5686a7",
   "metadata": {},
   "outputs": [],
   "source": [
    "# This function returns the images from Urban 100 image_SRF_4 folder\n",
    "def train_test_split_for_image_SRF_4():\n",
    "    #defining the size of train test split\n",
    "    size_of_test_split=np.floor(len(content_folder_SRF4)*test_split)\n",
    "    size_of_train_split=len(content_folder_SRF4)-size_of_test_split\n",
    "    i=0\n",
    "    test_indexes=[]\n",
    "    #splitting the file names as per the random tratin test split \n",
    "    while i<int(size_of_test_split):\n",
    "\n",
    "        generated_num=random.randint(0,size_of_test_split)\n",
    "        if int(generated_num) in test_indexes:\n",
    "            continue\n",
    "        else:\n",
    "            test_indexes.append(int(generated_num))\n",
    "            i=i+1\n",
    "    X_train_list=[]\n",
    "    X_test_list=[]\n",
    "    l=np.arange(len(content_folder_SRF4))\n",
    "    for i in range(len(l)):\n",
    "        if l[i] in test_indexes:\n",
    "            X_test_list.append(content_folder_SRF4[i])\n",
    "        else:\n",
    "            X_train_list.append(content_folder_SRF4[i])\n",
    "            \n",
    "    return X_train_list,X_test_list"
   ]
  },
  {
   "cell_type": "code",
   "execution_count": 6,
   "id": "5934cfb0",
   "metadata": {},
   "outputs": [],
   "source": [
    "#This function directly returns all the image path present in Urban 100 dataset\n",
    "def getting_all_files_in_single_list():\n",
    "    return content_folder_SRF2,content_folder_SRF4\n",
    "    "
   ]
  },
  {
   "cell_type": "code",
   "execution_count": null,
   "id": "99935f6b",
   "metadata": {},
   "outputs": [],
   "source": []
  }
 ],
 "metadata": {
  "kernelspec": {
   "display_name": "Python 3",
   "language": "python",
   "name": "python3"
  },
  "language_info": {
   "codemirror_mode": {
    "name": "ipython",
    "version": 3
   },
   "file_extension": ".py",
   "mimetype": "text/x-python",
   "name": "python",
   "nbconvert_exporter": "python",
   "pygments_lexer": "ipython3",
   "version": "3.8.8"
  }
 },
 "nbformat": 4,
 "nbformat_minor": 5
}
